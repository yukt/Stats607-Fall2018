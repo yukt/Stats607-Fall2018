{
 "cells": [
  {
   "cell_type": "markdown",
   "metadata": {
    "nbpresent": {
     "id": "f77e2465-07f3-4ad0-ab0b-970cc19da161"
    }
   },
   "source": [
    "# <center> STATS 607 - LECTURE 8\n",
    "## <center> 10/01/2018"
   ]
  },
  {
   "cell_type": "markdown",
   "metadata": {},
   "source": [
    "# <center> Numpy (Continuation)"
   ]
  },
  {
   "cell_type": "markdown",
   "metadata": {},
   "source": [
    "Thank you Prof. Kerby Shedden for making available part of the material for this lecture."
   ]
  },
  {
   "cell_type": "markdown",
   "metadata": {},
   "source": [
    "## Arithmetic operations"
   ]
  },
  {
   "cell_type": "markdown",
   "metadata": {},
   "source": [
    "As seen in the last lecture, Numpy arrays behave like mathematical vectors and matrices with respect to arithmetic operations. Lets see an example with a two dimensional Numpy array:"
   ]
  },
  {
   "cell_type": "code",
   "execution_count": 1,
   "metadata": {},
   "outputs": [
    {
     "data": {
      "text/plain": [
       "(array([[1., 1., 1., 1.],\n",
       "        [1., 1., 1., 1.],\n",
       "        [1., 1., 1., 1.]]), dtype('float64'))"
      ]
     },
     "execution_count": 1,
     "metadata": {},
     "output_type": "execute_result"
    }
   ],
   "source": [
    "import numpy as np\n",
    "\n",
    "x = np.ones((3,4)) # Creates a two dimensional numpy array.\n",
    "x, x.dtype"
   ]
  },
  {
   "cell_type": "code",
   "execution_count": 2,
   "metadata": {},
   "outputs": [
    {
     "name": "stdout",
     "output_type": "stream",
     "text": [
      "2\n",
      "(3, 4)\n",
      "12\n"
     ]
    }
   ],
   "source": [
    "print(x.ndim)  # Returns number of dimensions in an array.\n",
    "print(x.shape) # Return tuple desribing array shape.\n",
    "print(x.size)  # Returns number of elements."
   ]
  },
  {
   "cell_type": "code",
   "execution_count": 3,
   "metadata": {},
   "outputs": [],
   "source": [
    "y = np.array([[1, 2], [3, 4]])\n",
    "z = np.array([[5, 6], [7, 8]])"
   ]
  },
  {
   "cell_type": "code",
   "execution_count": 4,
   "metadata": {},
   "outputs": [
    {
     "name": "stdout",
     "output_type": "stream",
     "text": [
      "[[1 2]\n",
      " [3 4]]\n",
      "[[5 6]\n",
      " [7 8]]\n"
     ]
    }
   ],
   "source": [
    "print(y)\n",
    "print(z)"
   ]
  },
  {
   "cell_type": "code",
   "execution_count": 5,
   "metadata": {},
   "outputs": [
    {
     "data": {
      "text/plain": [
       "array([[ 6,  8],\n",
       "       [10, 12]])"
      ]
     },
     "execution_count": 5,
     "metadata": {},
     "output_type": "execute_result"
    }
   ],
   "source": [
    "y + z # Summs element wise."
   ]
  },
  {
   "cell_type": "code",
   "execution_count": 6,
   "metadata": {},
   "outputs": [
    {
     "data": {
      "text/plain": [
       "array([[0.2 , 0.33],\n",
       "       [0.43, 0.5 ]])"
      ]
     },
     "execution_count": 6,
     "metadata": {},
     "output_type": "execute_result"
    }
   ],
   "source": [
    "np.round(y / z, 2) # Divides element wise."
   ]
  },
  {
   "cell_type": "code",
   "execution_count": 7,
   "metadata": {},
   "outputs": [
    {
     "data": {
      "text/plain": [
       "array([[1, 2],\n",
       "       [3, 4],\n",
       "       [5, 6]])"
      ]
     },
     "execution_count": 7,
     "metadata": {},
     "output_type": "execute_result"
    }
   ],
   "source": [
    "w = np.array([[1, 2], [3, 4], [5, 6]]) # Lets create a new Numpy array 3x2.\n",
    "w"
   ]
  },
  {
   "cell_type": "code",
   "execution_count": 8,
   "metadata": {},
   "outputs": [
    {
     "ename": "ValueError",
     "evalue": "operands could not be broadcast together with shapes (3,2) (2,2) ",
     "output_type": "error",
     "traceback": [
      "\u001b[0;31m---------------------------------------------------------------------------\u001b[0m",
      "\u001b[0;31mValueError\u001b[0m                                Traceback (most recent call last)",
      "\u001b[0;32m<ipython-input-8-ea801934cab0>\u001b[0m in \u001b[0;36m<module>\u001b[0;34m()\u001b[0m\n\u001b[0;32m----> 1\u001b[0;31m \u001b[0mw\u001b[0m \u001b[0;34m+\u001b[0m \u001b[0mz\u001b[0m \u001b[0;31m# Notice the error message below. We'll get to it later in this lecture.\u001b[0m\u001b[0;34m\u001b[0m\u001b[0m\n\u001b[0m",
      "\u001b[0;31mValueError\u001b[0m: operands could not be broadcast together with shapes (3,2) (2,2) "
     ]
    }
   ],
   "source": [
    "w + z # Notice the error message below. We'll get to it later in this lecture."
   ]
  },
  {
   "cell_type": "markdown",
   "metadata": {},
   "source": [
    "An easy way to avoid making copies when performing array arithmetic in Numpy is to use the in-place arithmetic operators +=, *=, etc. When we use x = x + y, a new allocation is made to hold the value x + y, and this allocated memory is then assigned to x, with the previous memory block of x (eventually) being garbage collected. But x += y does not result in a new allocation, as seen below:"
   ]
  },
  {
   "cell_type": "code",
   "execution_count": 9,
   "metadata": {},
   "outputs": [
    {
     "name": "stdout",
     "output_type": "stream",
     "text": [
      "4595897888\n",
      "4595813552\n",
      "[[ 6  8]\n",
      " [10 12]]\n"
     ]
    }
   ],
   "source": [
    "y = np.array([[1, 2], [3, 4]])\n",
    "z = np.array([[5, 6], [7, 8]])\n",
    "\n",
    "print(id(y))\n",
    "y = y + z   # Regular sum.\n",
    "print(id(y))\n",
    "print(y)"
   ]
  },
  {
   "cell_type": "code",
   "execution_count": 10,
   "metadata": {},
   "outputs": [
    {
     "name": "stdout",
     "output_type": "stream",
     "text": [
      "4595813632\n",
      "4595813632\n",
      "[[ 6  8]\n",
      " [10 12]]\n"
     ]
    }
   ],
   "source": [
    "y = np.array([[1, 2], [3, 4]])\n",
    "z = np.array([[5, 6], [7, 8]])\n",
    "\n",
    "print(id(y))\n",
    "y += z        # In-place sum.\n",
    "print(id(y))\n",
    "print(y)"
   ]
  },
  {
   "cell_type": "markdown",
   "metadata": {},
   "source": [
    "## Indexing and Slicing"
   ]
  },
  {
   "cell_type": "code",
   "execution_count": 11,
   "metadata": {},
   "outputs": [
    {
     "data": {
      "text/plain": [
       "array([[1, 2],\n",
       "       [3, 4]])"
      ]
     },
     "execution_count": 11,
     "metadata": {},
     "output_type": "execute_result"
    }
   ],
   "source": [
    "x = np.array([[1, 2], [3, 4]])\n",
    "x"
   ]
  },
  {
   "cell_type": "code",
   "execution_count": 12,
   "metadata": {},
   "outputs": [
    {
     "name": "stdout",
     "output_type": "stream",
     "text": [
      "[1 2]\n",
      "[[3 4]]\n",
      "2\n",
      "2\n"
     ]
    }
   ],
   "source": [
    "print(x[0]) # Returns the first line.\n",
    "print(x[1:]) # Returns a similar structure to x with the second line.\n",
    "print(x[0][1]) # Returns the second element of the first line.\n",
    "print(x[0,1]) # A more concise way of writing the above lookup."
   ]
  },
  {
   "cell_type": "markdown",
   "metadata": {},
   "source": [
    "Remember that slices will normally return a “view” of the underlying data, meaning that if you change a slice, the same values will change in the parent array:"
   ]
  },
  {
   "cell_type": "code",
   "execution_count": 13,
   "metadata": {},
   "outputs": [
    {
     "data": {
      "text/plain": [
       "array([[  1,   2,   3],\n",
       "       [100,   5,   6]])"
      ]
     },
     "execution_count": 13,
     "metadata": {},
     "output_type": "execute_result"
    }
   ],
   "source": [
    "x = np.array([[1, 2, 3], [4, 5, 6]])\n",
    "y = x[:,0] # retrieves the first column.\n",
    "y[1]=100 # modifies its element.\n",
    "x"
   ]
  },
  {
   "cell_type": "markdown",
   "metadata": {},
   "source": [
    "Now suppose you want to retrieve elements from the first and the third columns of x:"
   ]
  },
  {
   "cell_type": "code",
   "execution_count": 14,
   "metadata": {},
   "outputs": [
    {
     "data": {
      "text/plain": [
       "array([[1, 2, 3],\n",
       "       [4, 5, 6]])"
      ]
     },
     "execution_count": 14,
     "metadata": {},
     "output_type": "execute_result"
    }
   ],
   "source": [
    "x = np.array([[1, 2, 3], [4, 5, 6]])\n",
    "y = x[:,[0,2]] # We use a list to index - this is also called advanced or fancy indexing.\n",
    "y[1]=100\n",
    "x"
   ]
  },
  {
   "cell_type": "markdown",
   "metadata": {},
   "source": [
    "When you use advanced indexing, no view is provided and a copy of the original object will be made."
   ]
  },
  {
   "cell_type": "code",
   "execution_count": 15,
   "metadata": {},
   "outputs": [
    {
     "data": {
      "text/plain": [
       "array([[5, 6],\n",
       "       [3, 4]])"
      ]
     },
     "execution_count": 15,
     "metadata": {},
     "output_type": "execute_result"
    }
   ],
   "source": [
    "x = np.array([[1,2], [3,4], [5,6]])\n",
    "y = x[[-1,-2],:] # Another example of advanced indexing with negative indices.\n",
    "y"
   ]
  },
  {
   "cell_type": "code",
   "execution_count": 16,
   "metadata": {},
   "outputs": [
    {
     "name": "stdout",
     "output_type": "stream",
     "text": [
      "[[ 1 -2]\n",
      " [ 3  4]\n",
      " [-5  6]]\n",
      "[[False  True]\n",
      " [False False]\n",
      " [ True False]]\n"
     ]
    }
   ],
   "source": [
    "x = np.array([[1,-2], [3,4], [-5,6]])\n",
    "print(x)\n",
    "print(x<0) # x <0 is a boolean array."
   ]
  },
  {
   "cell_type": "code",
   "execution_count": 17,
   "metadata": {},
   "outputs": [
    {
     "data": {
      "text/plain": [
       "array([[1, 0],\n",
       "       [3, 4],\n",
       "       [0, 6]])"
      ]
     },
     "execution_count": 17,
     "metadata": {},
     "output_type": "execute_result"
    }
   ],
   "source": [
    "x[x<0]=0 # This is called boolean indexing. Here I am setting negative entries to zero.\n",
    "x"
   ]
  },
  {
   "cell_type": "markdown",
   "metadata": {},
   "source": [
    "\n",
    "## Linear Algebra"
   ]
  },
  {
   "cell_type": "markdown",
   "metadata": {},
   "source": [
    "Numpy supports a wide range of matrix and linear algebra operations. For example, you can use 'np.linalg.solve' to solve a linear system of equations, 'np.linalg.svd' for the singular value decomposition, 'np.linalg.cholesky' for the cholesky decomposition, and much more... We will not attempt to describe all of them here. Just a couple of quick examples:"
   ]
  },
  {
   "cell_type": "code",
   "execution_count": 18,
   "metadata": {},
   "outputs": [
    {
     "name": "stdout",
     "output_type": "stream",
     "text": [
      "Inner Product: \n",
      " 5\n",
      "Outer Product: \n",
      " [[1 2]\n",
      " [2 4]]\n"
     ]
    }
   ],
   "source": [
    "u = np.array([1,2])\n",
    "v = np.array([1,2])\n",
    "\n",
    "a = np.dot(u, v)   # inner product.\n",
    "b = np.outer(u, v) # outer product.\n",
    "print('Inner Product: \\n', a)\n",
    "print('Outer Product: \\n', b)"
   ]
  },
  {
   "cell_type": "code",
   "execution_count": 19,
   "metadata": {},
   "outputs": [
    {
     "name": "stdout",
     "output_type": "stream",
     "text": [
      "Eigen Values: \n",
      " [6. 0.]\n",
      "Eigen Vectors: \n",
      " [[ 1.  -0.8]\n",
      " [ 0.   0.6]]\n"
     ]
    }
   ],
   "source": [
    "A = np.random.randint(0,10,(2,2))\n",
    "A\n",
    "[L,V] = np.linalg.eig(A)\n",
    "print('Eigen Values: \\n', L)\n",
    "print('Eigen Vectors: \\n', V)"
   ]
  },
  {
   "cell_type": "markdown",
   "metadata": {},
   "source": [
    "## Vectorization"
   ]
  },
  {
   "cell_type": "markdown",
   "metadata": {},
   "source": [
    "Vectorization within NumPy is used to express operations as occurring on entire arrays rather than their individual elements. Here’s a definition from Wes McKinney:\n",
    "\n",
    "\"\n",
    "This practice of replacing explicit loops with array expressions is commonly referred to as vectorization. In general, vectorized array operations will often be one or two (or more) orders of magnitude faster than their pure Python equivalents, with the biggest impact seen in any kind of numerical computations. (see [here](https://www.safaribooksonline.com/library/view/python-for-data/9781449323592/ch04.html?orpq))\n",
    "\"\n",
    "\n",
    "Lets see an example:"
   ]
  },
  {
   "cell_type": "code",
   "execution_count": 20,
   "metadata": {},
   "outputs": [],
   "source": [
    "values = np.random.choice([True,False], size=500)"
   ]
  },
  {
   "cell_type": "code",
   "execution_count": 21,
   "metadata": {},
   "outputs": [],
   "source": [
    "def count_transitions1(values):\n",
    "    \"\"\"Returns the number of transitions from either False to True or from True to False\"\"\"\n",
    "    output = 0\n",
    "    for x,y in zip(values[:-1],values[1:]):\n",
    "        if x!=y:\n",
    "            output+=1\n",
    "    return output"
   ]
  },
  {
   "cell_type": "code",
   "execution_count": 22,
   "metadata": {},
   "outputs": [],
   "source": [
    "def count_transitions2(values):\n",
    "    \"\"\"Returns the number of transitions from either False to True or from True to False\"\"\"\n",
    "    output = np.sum(values[:-1]!=values[1:])\n",
    "    return output"
   ]
  },
  {
   "cell_type": "code",
   "execution_count": 23,
   "metadata": {},
   "outputs": [
    {
     "name": "stdout",
     "output_type": "stream",
     "text": [
      "237\n",
      "237\n"
     ]
    }
   ],
   "source": [
    "print(count_transitions1(values))\n",
    "print(count_transitions2(values))"
   ]
  },
  {
   "cell_type": "code",
   "execution_count": 24,
   "metadata": {},
   "outputs": [
    {
     "name": "stdout",
     "output_type": "stream",
     "text": [
      "780 µs ± 11.1 µs per loop (mean ± std. dev. of 7 runs, 1000 loops each)\n",
      "5.5 µs ± 159 ns per loop (mean ± std. dev. of 7 runs, 1000 loops each)\n"
     ]
    }
   ],
   "source": [
    "%timeit -n 1000 count_transitions1(values)\n",
    "%timeit -n 1000 count_transitions2(values)"
   ]
  },
  {
   "cell_type": "markdown",
   "metadata": {},
   "source": [
    "## Reducing functions"
   ]
  },
  {
   "cell_type": "markdown",
   "metadata": {},
   "source": [
    "Numpy has reducing functions that collapse a multidimensional array to one single axis. The axes are numbered 0 (rows), 1 (columns), etc. For example:"
   ]
  },
  {
   "cell_type": "code",
   "execution_count": 25,
   "metadata": {},
   "outputs": [
    {
     "data": {
      "text/plain": [
       "array([[ 9.20961197e-01, -5.32602392e-01,  6.71148120e-01,\n",
       "        -1.96888526e+00, -9.88423666e-02, -1.10787200e+00,\n",
       "        -3.05209143e-01, -3.53075775e-01, -1.59356410e+00,\n",
       "         6.84701668e-01],\n",
       "       [ 6.73556695e-01, -1.78395194e-01,  2.98747481e-01,\n",
       "         1.40250253e-02, -1.19106895e+00, -1.08183859e+00,\n",
       "         1.19804015e+00,  6.68441672e-01,  5.28948071e-02,\n",
       "         1.18164905e-01],\n",
       "       [ 1.37286137e+00, -3.95800504e-03,  1.82497216e+00,\n",
       "        -1.52650632e-01,  2.50971108e-01, -7.09316101e-01,\n",
       "        -6.11018946e-01,  1.42337377e-01,  2.32216527e-01,\n",
       "        -7.25618288e-02],\n",
       "       [ 1.99726405e+00, -9.32739334e-02,  2.61412469e-01,\n",
       "        -1.59183095e+00,  1.83075133e-01, -7.19270463e-01,\n",
       "        -8.01663911e-01,  5.88805950e-01,  2.02972829e+00,\n",
       "        -8.38174782e-01],\n",
       "       [ 1.86767916e+00, -4.44231975e-01, -5.65877680e-01,\n",
       "         1.20664431e+00,  1.07077203e+00,  6.72052668e-01,\n",
       "        -3.37373987e-01, -6.94018342e-01, -2.01728966e-03,\n",
       "         5.01870536e-01]])"
      ]
     },
     "execution_count": 25,
     "metadata": {},
     "output_type": "execute_result"
    }
   ],
   "source": [
    "x = np.random.normal(size=(5,10))\n",
    "x"
   ]
  },
  {
   "cell_type": "code",
   "execution_count": 26,
   "metadata": {},
   "outputs": [
    {
     "name": "stdout",
     "output_type": "stream",
     "text": [
      "[ 1.3664645  -0.2504923   0.49808051 -0.4985395   0.04298139 -0.5892489\n",
      " -0.17144517  0.07049818  0.14385165  0.0788001 ]\n",
      "[-0.368324    0.0572568   0.2273853   0.10160719  0.32754994]\n"
     ]
    }
   ],
   "source": [
    "print(x.mean(0)) # column-wise means, size=10.\n",
    "print(x.mean(1)) # row-wise means, size=5."
   ]
  },
  {
   "cell_type": "markdown",
   "metadata": {},
   "source": [
    "## Broadcasting"
   ]
  },
  {
   "cell_type": "markdown",
   "metadata": {},
   "source": [
    "The term broadcasting describes how numpy treats arrays with different shapes during arithmetic operations. Subject to certain constraints, the smaller array is “broadcast” across the larger array so that they have compatible shapes. Broadcasting provides a means of vectorizing array operations so that looping occurs in C instead of Python."
   ]
  },
  {
   "cell_type": "markdown",
   "metadata": {},
   "source": [
    "One use of broadcasting is if we want to center or scale an array by column:"
   ]
  },
  {
   "cell_type": "code",
   "execution_count": 27,
   "metadata": {},
   "outputs": [
    {
     "name": "stdout",
     "output_type": "stream",
     "text": [
      "4596441536\n",
      "[0.50250989 0.50371817 0.50473372 0.49721157]\n",
      "[0.28761965 0.2907155  0.28583363 0.29019522]\n",
      "(10000, 4)\n",
      "(4,)\n",
      "[-3.68691189e-15  1.50657264e-16 -6.66697808e-15  5.73615044e-15]\n",
      "[1. 1. 1. 1.]\n",
      "4596441536\n"
     ]
    }
   ],
   "source": [
    "x = np.random.random(size=(10000, 4))\n",
    "print(id(x))\n",
    "\n",
    "print(x.mean(0))\n",
    "print(x.std(0))\n",
    "\n",
    "print(x.shape)\n",
    "print(x.mean(0).shape)\n",
    "\n",
    "x -= x.mean(0)\n",
    "x /= x.std(0)\n",
    "\n",
    "print(x.mean(0))\n",
    "print(x.std(0))\n",
    "\n",
    "print(id(x))"
   ]
  },
  {
   "cell_type": "markdown",
   "metadata": {},
   "source": [
    "In the example above, x.mean(0) returns an array with dimension (4,), which matches from the right with the dimension of x, which is (10000,4). Therefore the shapes are compatible for broadcasting. The behavior in this case is that the result of x.mean(0) is only computed one time, and the same result is used for centering each row of x."
   ]
  },
  {
   "cell_type": "markdown",
   "metadata": {},
   "source": [
    "There is a special case of the broadcasting rules that applies when a dimension’s length is equal to 1. In this case, the value in that dimension is copied to match the dimension on the same axis in the other array:"
   ]
  },
  {
   "cell_type": "code",
   "execution_count": 28,
   "metadata": {},
   "outputs": [
    {
     "data": {
      "text/plain": [
       "array([2., 3., 4.])"
      ]
     },
     "execution_count": 28,
     "metadata": {},
     "output_type": "execute_result"
    }
   ],
   "source": [
    "a = np.array([10.0, 15.0, 20.0])\n",
    "b = np.array([5.0, 5.0, 5.0])\n",
    "a / b"
   ]
  },
  {
   "cell_type": "code",
   "execution_count": 29,
   "metadata": {},
   "outputs": [
    {
     "name": "stdout",
     "output_type": "stream",
     "text": [
      "(3,)\n",
      "(1,)\n"
     ]
    },
    {
     "data": {
      "text/plain": [
       "array([2., 3., 4.])"
      ]
     },
     "execution_count": 29,
     "metadata": {},
     "output_type": "execute_result"
    }
   ],
   "source": [
    "a = np.array([10.0, 15.0, 20.0])\n",
    "print(a.shape)\n",
    "b = np.array([5.0])\n",
    "print(b.shape)\n",
    "a / b"
   ]
  },
  {
   "cell_type": "code",
   "execution_count": 30,
   "metadata": {},
   "outputs": [
    {
     "name": "stdout",
     "output_type": "stream",
     "text": [
      "[[-1.87910323 -1.95398868]\n",
      " [ 0.2889479   0.80727502]\n",
      " [ 0.35499204  0.71939663]\n",
      " [-1.87803902  0.04162347]\n",
      " [-0.61127833  0.78452084]\n",
      " [-0.07130332  0.40199372]\n",
      " [-1.24470526 -0.74698243]\n",
      " [-1.45926702  0.33395947]\n",
      " [ 1.0873452   0.44111197]\n",
      " [ 1.19793798  1.92453536]]\n"
     ]
    }
   ],
   "source": [
    "x = np.random.normal(size=(10, 2))\n",
    "y = np.random.normal(size=(10, 1))\n",
    "print(x + y)"
   ]
  },
  {
   "cell_type": "markdown",
   "metadata": {},
   "source": [
    "There is a special syntax for adding a new axis of length 1 to an array:"
   ]
  },
  {
   "cell_type": "code",
   "execution_count": 31,
   "metadata": {},
   "outputs": [],
   "source": [
    "x = np.zeros(10)  # shape is (10,).\n",
    "y = x[:, None]    # shape is (10,1).\n",
    "z = x[None, :]    # shape is (1,10)."
   ]
  },
  {
   "cell_type": "markdown",
   "metadata": {},
   "source": [
    "A common setting where this is useful is when you want to center or scale a two-dimensional array by row. Adding a new column with dimension 1 allows the broadcasting rules to apply when they otherwise would not:"
   ]
  },
  {
   "cell_type": "code",
   "execution_count": 32,
   "metadata": {},
   "outputs": [],
   "source": [
    "x = np.random.normal(size=(10, 3))\n",
    "x -= x.mean(1)[:, None]\n",
    "x /= x.std(1)[:, None]"
   ]
  },
  {
   "cell_type": "markdown",
   "metadata": {},
   "source": [
    "See the intermediate values below:"
   ]
  },
  {
   "cell_type": "code",
   "execution_count": 33,
   "metadata": {},
   "outputs": [
    {
     "data": {
      "text/plain": [
       "(array([-7.40148683e-17,  3.70074342e-17, -7.40148683e-17,  7.40148683e-17,\n",
       "         0.00000000e+00,  3.70074342e-17,  1.11022302e-16,  7.40148683e-17,\n",
       "        -3.70074342e-17, -3.70074342e-17]), (10,))"
      ]
     },
     "execution_count": 33,
     "metadata": {},
     "output_type": "execute_result"
    }
   ],
   "source": [
    "x.mean(1), x.mean(1).shape"
   ]
  },
  {
   "cell_type": "code",
   "execution_count": 34,
   "metadata": {},
   "outputs": [
    {
     "data": {
      "text/plain": [
       "(array([[-7.40148683e-17],\n",
       "        [ 3.70074342e-17],\n",
       "        [-7.40148683e-17],\n",
       "        [ 7.40148683e-17],\n",
       "        [ 0.00000000e+00],\n",
       "        [ 3.70074342e-17],\n",
       "        [ 1.11022302e-16],\n",
       "        [ 7.40148683e-17],\n",
       "        [-3.70074342e-17],\n",
       "        [-3.70074342e-17]]), (10, 1))"
      ]
     },
     "execution_count": 34,
     "metadata": {},
     "output_type": "execute_result"
    }
   ],
   "source": [
    "x.mean(1)[:, None], x.mean(1)[:, None].shape"
   ]
  },
  {
   "cell_type": "markdown",
   "metadata": {},
   "source": [
    "## Conclusion"
   ]
  },
  {
   "cell_type": "markdown",
   "metadata": {},
   "source": [
    "Numpy is one of many tools designed from the 1980’s to the early 2000’s for array manipulation. These tools tend to follow a common set of design principles, namely:\n",
    "\n",
    "* Arrays are contiguous in memory.\n",
    "* Memory management is dynamic and mostly invisible.\n",
    "* Mathematical operations are expressed in the same syntax that we usually use to write mathematics on paper, e.g. x = y + z assigns to x the pointwise sum of y and z.\n",
    "\n",
    "These design choices favor ease-of-use, but there is a loss of performance in many cases, and may limit the ability to work on very large data objects. One consequence of this design strategy is that copies are sometimes made that are not needed. For example, consider the following:"
   ]
  },
  {
   "cell_type": "code",
   "execution_count": null,
   "metadata": {},
   "outputs": [],
   "source": [
    "x = np.arange(10)\n",
    "y = np.arange(10)\n",
    "z = np.sum(x * y)"
   ]
  },
  {
   "cell_type": "markdown",
   "metadata": {},
   "source": [
    "In creating z, the pointwise product x * y is formed as an array of length 10, and then is summed. It would be faster and more memory efficient to accumulate the sum in a loop, e.g. expressed in Python the loop would be:"
   ]
  },
  {
   "cell_type": "code",
   "execution_count": null,
   "metadata": {},
   "outputs": [],
   "source": [
    "z = 0\n",
    "for i in range(10):\n",
    "    z += x[i] * y[i]"
   ]
  },
  {
   "cell_type": "markdown",
   "metadata": {},
   "source": [
    "This particular operation exists in numpy via the dot function. We can compare the timings:"
   ]
  },
  {
   "cell_type": "code",
   "execution_count": 35,
   "metadata": {},
   "outputs": [
    {
     "name": "stdout",
     "output_type": "stream",
     "text": [
      "5.41 µs ± 509 ns per loop (mean ± std. dev. of 7 runs, 10000 loops each)\n",
      "1.59 µs ± 22.9 ns per loop (mean ± std. dev. of 7 runs, 10000 loops each)\n"
     ]
    }
   ],
   "source": [
    "m = 1000\n",
    "x = np.arange(m)\n",
    "y = np.arange(m)\n",
    "\n",
    "def f():\n",
    "    return np.sum(x * y)\n",
    "\n",
    "def g():\n",
    "    return np.dot(x, y)\n",
    "\n",
    "%timeit -n 10000 f()\n",
    "%timeit -n 10000 g()"
   ]
  },
  {
   "cell_type": "markdown",
   "metadata": {},
   "source": [
    "The challenge from a design perspective here is that the Python interpreter handles the product x * y and immediately allocates space for the result. There is no way for Numpy to analyze this algebraic expression and recognize that the product array is only going to be summed, and therefore need not be constructed in entirety.\n",
    "\n",
    "There is now great interest in next-generation array processing tools that aim to resolve the performance limitations of Numpy. For example, to address the issue of excess copying, the 'numexpr' package takes expressions written as strings and evaluates them in a virtual machine that can apply a variety of accelerations. For example, by passing “sum(x * y)” to the virtual machine, it can be automatically be determined that the sum can be calculated in streaming fashion without explicitly forming x * y.\n",
    "\n",
    "Other projects include Numba, which uses just-in-time compilation to bypass the Python interpreter (see [here](https://numba.pydata.org)); Cython, which uses an extended Python-like language to permit compilation of code to C [here](http://cython.org); Dask, which defines array-like data containers that can live in either primary memory or on-disk [here](http://docs.dask.org/en/latest/); and Theano, which generates code for doing array processing on GPUs (among other things) [here](http://deeplearning.net/software/theano/)."
   ]
  }
 ],
 "metadata": {
  "anaconda-cloud": {},
  "kernelspec": {
   "display_name": "Python 3",
   "language": "python",
   "name": "python3"
  },
  "language_info": {
   "codemirror_mode": {
    "name": "ipython",
    "version": 3
   },
   "file_extension": ".py",
   "mimetype": "text/x-python",
   "name": "python",
   "nbconvert_exporter": "python",
   "pygments_lexer": "ipython3",
   "version": "3.6.4"
  },
  "nbpresent": {
   "slides": {
    "8ce21dab-2b7a-439c-8f0a-8a1036a1ac0d": {
     "id": "8ce21dab-2b7a-439c-8f0a-8a1036a1ac0d",
     "prev": null,
     "regions": {
      "d8401624-efe9-4853-a676-de863b4ba3cd": {
       "attrs": {
        "height": 1,
        "width": 1,
        "x": 0,
        "y": 0
       },
       "id": "d8401624-efe9-4853-a676-de863b4ba3cd"
      }
     },
     "theme": null
    }
   },
   "themes": {}
  }
 },
 "nbformat": 4,
 "nbformat_minor": 2
}
